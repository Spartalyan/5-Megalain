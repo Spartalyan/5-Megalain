{
 "cells": [
  {
   "cell_type": "markdown",
   "metadata": {},
   "source": [
    "# Рекомендация тарифов"
   ]
  },
  {
   "cell_type": "markdown",
   "metadata": {},
   "source": [
    "В нашем распоряжении данные о поведении клиентов, которые уже перешли на эти тарифы. Нужно построить модель для задачи классификации, которая выберет подходящий тариф. Предобработка данных не понадобится.\n",
    "\n",
    "Построим модель с максимально большим значением *accuracy*. \n",
    "\n",
    "Наметим план:\n",
    "\n",
    "1. Выгрузка и обзор данных.\n",
    "2. Разработка модели.\n",
    " - Разбивка на выборки.\n",
    " - Определение признаков.\n",
    " - Разработка моделей:\n",
    "     * Дерево решений\n",
    "     * Лес деревьев\n",
    "     * Логистическая регрессия\n",
    " - Проверка модели\n",
    " - Проверка модели на адекватность."
   ]
  },
  {
   "cell_type": "markdown",
   "metadata": {},
   "source": [
    "## Выгрузка и обзор данных."
   ]
  },
  {
   "cell_type": "code",
   "execution_count": 1,
   "metadata": {},
   "outputs": [],
   "source": [
    "#Импортирую необходимые модули и библиотеки\n",
    "import pandas as pd\n",
    "from sklearn.model_selection import train_test_split\n",
    "from sklearn.tree import DecisionTreeClassifier\n",
    "from sklearn.metrics import accuracy_score\n",
    "from sklearn.ensemble import RandomForestClassifier\n",
    "from sklearn.linear_model import LogisticRegression\n",
    "from sklearn.metrics import mean_squared_error\n",
    "from joblib import dump"
   ]
  },
  {
   "cell_type": "code",
   "execution_count": 2,
   "metadata": {},
   "outputs": [],
   "source": [
    "#Открываю файл с данными и сохраняю в переменную df\n",
    "df = pd.read_csv('/Users/mariaspartalan/Desktop/готовые проекты/5 Мегалайн/users_behavior.csv')"
   ]
  },
  {
   "cell_type": "code",
   "execution_count": 3,
   "metadata": {},
   "outputs": [
    {
     "name": "stdout",
     "output_type": "stream",
     "text": [
      "<class 'pandas.core.frame.DataFrame'>\n",
      "RangeIndex: 3214 entries, 0 to 3213\n",
      "Data columns (total 5 columns):\n",
      " #   Column    Non-Null Count  Dtype  \n",
      "---  ------    --------------  -----  \n",
      " 0   calls     3214 non-null   float64\n",
      " 1   minutes   3214 non-null   float64\n",
      " 2   messages  3214 non-null   float64\n",
      " 3   mb_used   3214 non-null   float64\n",
      " 4   is_ultra  3214 non-null   int64  \n",
      "dtypes: float64(4), int64(1)\n",
      "memory usage: 125.7 KB\n"
     ]
    }
   ],
   "source": [
    "#Какие данные нам даны\n",
    "df.info()"
   ]
  },
  {
   "cell_type": "markdown",
   "metadata": {},
   "source": [
    "Итак, у нас есть датафрейм в котором есть информация о 3124 обьектах.\n",
    "\n",
    "Каждый объект в наборе данных — это информация о поведении одного пользователя за месяц. \n",
    "\n",
    "Известно:\n",
    "\n",
    "* сalls — количество звонков,\n",
    "* minutes — суммарная длительность звонков в минутах,\n",
    "* messages — количество sms-сообщений,\n",
    "* mb_used — израсходованный интернет-трафик в Мб,\n",
    "* is_ultra — каким тарифом пользовался в течение месяца («Ультра» — 1, «Смарт» — 0).\n",
    "\n",
    "    Оператор мобильной связи «Мегалайн» выяснил: многие клиенты пользуются архивными тарифами. Они хотят построить систему, способную проанализировать поведение клиентов и предложить пользователям новый тариф: «Смарт» или «Ультра».\n",
    "\n",
    "\n",
    "    В нашем распоряжении данные о поведении клиентов, которые уже перешли на эти тарифы. \n",
    "\n",
    "Предобратка не понадобиться, она уже сделана.\n",
    "\n",
    "\n"
   ]
  },
  {
   "cell_type": "markdown",
   "metadata": {},
   "source": [
    "## Разработка модели.\n",
    "### Разбейте данные на выборки"
   ]
  },
  {
   "cell_type": "code",
   "execution_count": 4,
   "metadata": {},
   "outputs": [],
   "source": [
    "#Разделяю данные на 3 подборки в 2 два этапа\n",
    "\n",
    "df_train, df_valid_test = train_test_split(df, test_size=0.4, random_state=12345, stratify=df['is_ultra'])"
   ]
  },
  {
   "cell_type": "code",
   "execution_count": 6,
   "metadata": {},
   "outputs": [],
   "source": [
    "df_valid, df_test = train_test_split(df_valid_test, test_size=0.5, random_state=12345, stratify=df_valid_test['is_ultra'])"
   ]
  },
  {
   "cell_type": "code",
   "execution_count": 7,
   "metadata": {},
   "outputs": [
    {
     "name": "stdout",
     "output_type": "stream",
     "text": [
      "Размеры выборок:\n",
      "Общая (3214, 5)\n",
      "Тренировачная(1928, 5)\n",
      "Валидационная(643, 5)\n",
      "Тестовая(643, 5)\n"
     ]
    }
   ],
   "source": [
    "print('Размеры выборок:\\nОбщая {}\\nТренировачная{}\\nВалидационная{}\\nТестовая{}'\n",
    "      .format(df.shape, df_train.shape, df_valid.shape, df_test.shape))"
   ]
  },
  {
   "cell_type": "markdown",
   "metadata": {},
   "source": [
    "________________\n",
    "Промежуточный вывод\n",
    "\n",
    "В этой части работы я разделила весь датафрейм на 3 подборки:\n",
    "-тренировочную,\n",
    "-валидационную,\n",
    "-тестовую.\n",
    "\n",
    "Даные разделены в пропорциях 3:1:1."
   ]
  },
  {
   "cell_type": "markdown",
   "metadata": {},
   "source": [
    "###  Определение признаков:\n",
    "\n",
    "\n",
    "   Нужно построить модель для задачи классификации, которая выберет подходящий тариф. То есть целевой признак это is_ultra, остальные столбцы признаки на основании данных которых будет работать наша модель. Создадим датафреймы с данными для кадого набора"
   ]
  },
  {
   "cell_type": "code",
   "execution_count": 8,
   "metadata": {},
   "outputs": [],
   "source": [
    "def new_df (data):\n",
    "    features = data.drop(['is_ultra'], axis=1)\n",
    "    target = data['is_ultra']\n",
    "    return features, target\n",
    "\n",
    "features_train, target_train = new_df(df_train)\n",
    "features_valid, target_valid = new_df(df_valid)\n",
    "features_test, target_test= new_df(df_test)"
   ]
  },
  {
   "cell_type": "code",
   "execution_count": 9,
   "metadata": {},
   "outputs": [
    {
     "name": "stdout",
     "output_type": "stream",
     "text": [
      "(1928, 4)\n",
      "(1928,)\n",
      "(643, 4)\n",
      "(643,)\n"
     ]
    }
   ],
   "source": [
    "#Проверяю рандомно, что вышло\n",
    "print(features_train.shape)\n",
    "print(target_train.shape)\n",
    "print(features_test.shape)\n",
    "print(target_valid.shape)"
   ]
  },
  {
   "cell_type": "markdown",
   "metadata": {},
   "source": [
    "Рассмотрим разные модели для предсказания целевого признака. Расчитаем количество ошибок для каждого.\n",
    "\n",
    "#### Дерево решений.\n",
    "\n",
    "Создаю цикл, который создаcт 5 деревьев с различной глубиной, проверит их точность."
   ]
  },
  {
   "cell_type": "code",
   "execution_count": 9,
   "metadata": {},
   "outputs": [
    {
     "name": "stdout",
     "output_type": "stream",
     "text": [
      "При глубине дерева 1 точность:0.7402799377916018\n",
      "При глубине дерева 2 точность:0.7729393468118196\n",
      "При глубине дерева 3 точность:0.7776049766718507\n",
      "При глубине дерева 4 точность:0.7542768273716952\n",
      "При глубине дерева 5 точность:0.7853810264385692\n",
      "\n",
      "Точность лучшей модели: 0.7853810264385692\n"
     ]
    }
   ],
   "source": [
    "best_tree = None\n",
    "best_result_tree = 0\n",
    "\n",
    "for depth in range(1,6):\n",
    "    tree = DecisionTreeClassifier(random_state=12345, max_depth=depth) \n",
    "    tree.fit(features_train, target_train)\n",
    "    predictions_valid_tree = tree.predict(features_valid)\n",
    "    result_tree = accuracy_score(target_valid, predictions_valid_tree)\n",
    "    print('При глубине дерева {} точность:{}'.format(depth, result_tree))\n",
    "    if result_tree > best_result_tree:\n",
    "        best_tree = tree\n",
    "        best_result_tree = result_tree\n",
    "print()        \n",
    "print('Точность лучшей модели:', best_result_tree)       "
   ]
  },
  {
   "cell_type": "markdown",
   "metadata": {},
   "source": [
    "Лучший результат показывает дерево с максимальной глубиной 3. Именно эту модель мы и схораним для дальнейшей работы.\n",
    "\n",
    "Модели с глубиной 1-2 соoтвественно недообучена, в то время как 4-5 переобучена.\n",
    "\n",
    "В исходном задании значиение accuracy должно быть от 0.75, значит подойдет любое дерево."
   ]
  },
  {
   "cell_type": "markdown",
   "metadata": {},
   "source": [
    "#### Случайный лес.\n",
    "\n",
    "Рассмотрим подробно все варианты эффективности с количество деревьев от 1 до 10."
   ]
  },
  {
   "cell_type": "code",
   "execution_count": 10,
   "metadata": {},
   "outputs": [
    {
     "name": "stdout",
     "output_type": "stream",
     "text": [
      "Модель случайного леса из 1 деревьев показывает точность:0.6998444790046656\n",
      "Модель случайного леса из 2 деревьев показывает точность:0.7433903576982893\n",
      "Модель случайного леса из 3 деревьев показывает точность:0.7418351477449455\n",
      "Модель случайного леса из 4 деревьев показывает точность:0.7558320373250389\n",
      "Модель случайного леса из 5 деревьев показывает точность:0.7527216174183515\n",
      "Модель случайного леса из 6 деревьев показывает точность:0.7729393468118196\n",
      "Модель случайного леса из 7 деревьев показывает точность:0.7698289269051322\n",
      "Модель случайного леса из 8 деревьев показывает точность:0.776049766718507\n",
      "Модель случайного леса из 9 деревьев показывает точность:0.7698289269051322\n",
      "Модель случайного леса из 10 деревьев показывает точность:0.7869362363919129\n",
      "\n",
      "Точность лучшей модели: 0.7869362363919129\n"
     ]
    }
   ],
   "source": [
    "best_forest = None\n",
    "best_result_forest = 0\n",
    "\n",
    "for n_est in range(1, 11):\n",
    "    forest = RandomForestClassifier(random_state=12345, n_estimators=n_est)\n",
    "    forest.fit(features_train, target_train)\n",
    "    predictions_valid_forest = forest.predict(features_valid)\n",
    "    result_forest = accuracy_score(target_valid, predictions_valid_forest) \n",
    "    print('Модель случайного леса из {} деревьев показывает точность:{}'.format(n_est,  result_forest))\n",
    "    if result_forest > best_result_forest:\n",
    "        best_forest = forest\n",
    "        best_result_forest = result_forest\n",
    "print()        \n",
    "print('Точность лучшей модели:', best_result_forest)       "
   ]
  },
  {
   "cell_type": "markdown",
   "metadata": {},
   "source": [
    "В задании требуется подобрать модель со значением accuracy не менее 0.75. Следовательно, случайный лес с количеством деревьев 1, 3 и 5 не подходят.\n",
    "\n",
    "Для дальнейшей работы сохраним модель с 10 деревьями, так как она показала самую высокую точность."
   ]
  },
  {
   "cell_type": "markdown",
   "metadata": {},
   "source": [
    "#### Логистическая регрессия"
   ]
  },
  {
   "cell_type": "code",
   "execution_count": 11,
   "metadata": {},
   "outputs": [
    {
     "name": "stdout",
     "output_type": "stream",
     "text": [
      "При с=0.01, точность логистической регрессии:0.7387247278382582\n",
      "При с=1, точность логистической регрессии:0.7387247278382582\n",
      "При с=10, точность логистической регрессии:0.7387247278382582\n",
      "При с=100, точность логистической регрессии:0.7387247278382582\n",
      "При с=100000, точность логистической регрессии:0.7387247278382582\n",
      "При с=100000000000, точность логистической регрессии:0.7387247278382582\n"
     ]
    }
   ],
   "source": [
    "#Поиграем с параметром с\n",
    "\n",
    "c_param = [0.01, 1, 10, 100, 100000, 100000000000]\n",
    "\n",
    "for c in c_param:\n",
    "    model_lr = LogisticRegression(random_state=12345, C=c)\n",
    "    model_lr.fit(features_train, target_train)\n",
    "    predictions_valid_lr = model_lr.predict(features_valid)\n",
    "    result_lr = accuracy_score(target_valid, predictions_valid_lr)\n",
    "    print('При с={}, точность логистической регрессии:{}'.format(c,  result_lr))"
   ]
  },
  {
   "cell_type": "code",
   "execution_count": 12,
   "metadata": {},
   "outputs": [
    {
     "name": "stdout",
     "output_type": "stream",
     "text": [
      "Точность при class_weight=balanced: 0.6220839813374806\n"
     ]
    }
   ],
   "source": [
    "model_lr = LogisticRegression(random_state=12345, class_weight='balanced')\n",
    "model_lr.fit(features_train, target_train)\n",
    "predictions_valid_lr = model_lr.predict(features_valid)\n",
    "result_lr = accuracy_score(target_valid, predictions_valid_lr)\n",
    "print('Точность при class_weight=balanced:', result_lr)"
   ]
  },
  {
   "cell_type": "markdown",
   "metadata": {},
   "source": [
    "Параметр C не влияет на точность полученной модели.\n",
    "\n",
    "Точность меньше необходимый 0.75. Модель логистической регрессии нам не подходит."
   ]
  },
  {
   "cell_type": "markdown",
   "metadata": {},
   "source": [
    "__________________\n",
    "\n",
    "**Промежуточный вывод:**\n",
    "\n",
    "Для данной задачи самую низку эффективность показала модель логистической регрессии. \n",
    "\n",
    "У дерева с максимальной губиной 3 средние результаты, но в принципе подходящие по заявленному в задаче условию, что точность должна быть не менее 0.75.\n",
    "\n",
    "Самый лучший результат показала модель лес случайных деревьев. Accuracy=0.7869362363919129\n",
    "\n",
    "Вообще обычно у дерева ниже эффективность, но быстрее скорость. В то время, как лес более точен, но затранее в исполнении. \n"
   ]
  },
  {
   "cell_type": "markdown",
   "metadata": {},
   "source": [
    "### Проверьте модели на тестовой выборке"
   ]
  },
  {
   "cell_type": "code",
   "execution_count": 13,
   "metadata": {},
   "outputs": [
    {
     "name": "stdout",
     "output_type": "stream",
     "text": [
      "Точность леса: 0.7931570762052877\n"
     ]
    }
   ],
   "source": [
    "#Проверяю модель на тестововй выборке\n",
    "\n",
    "predictions_test_forest = best_forest.predict(features_test)\n",
    "\n",
    "#Расчитываю точность предсказаний тестовой выборки\n",
    "\n",
    "accuracy_test_forest = accuracy_score(predictions_test_forest, target_test)\n",
    "\n",
    "#Выбираю лучшую модель\n",
    "\n",
    "print('Точность леса:', accuracy_test_forest)\n"
   ]
  },
  {
   "cell_type": "markdown",
   "metadata": {},
   "source": [
    "Лучшую точность показывает модель лес случаный деревьев, с количеством счетчиков 10.\n"
   ]
  },
  {
   "cell_type": "markdown",
   "metadata": {},
   "source": [
    "### Проверка модели на адекватность\n",
    "\n",
    "Когда мы говорим о проверке на вменяемость, мы имеем ввиду то, что наша обученная модель работает лучше, чем что-то простое. В случае с задачей классификации чем-то простым может быть, например, случайное угадывание класса или, как в нашем случае, всегда предсказывание большего класса. Если метрика на нашей модели хуже, чем на простой, то очевидно наша модель не годится. В качестве метрики в этой задаче мы используем accuracy - долю правильных ответов. Если мы будем на всех элементах предсказывать 0, то accuracy будет равно доле нулей в столбце is_ultra. То есть суть проверки на вменяемость в нашем случае - это убедиться, что accuracy нашей модели больше, чем доля нулей в is_ultra."
   ]
  },
  {
   "cell_type": "code",
   "execution_count": 14,
   "metadata": {},
   "outputs": [
    {
     "name": "stdout",
     "output_type": "stream",
     "text": [
      "Accuracy Dummy-модели на тестовой выборке: 0.6936236391912908\n"
     ]
    }
   ],
   "source": [
    "from sklearn.dummy import DummyClassifier\n",
    "from sklearn.metrics import accuracy_score\n",
    "dummy = DummyClassifier(strategy='most_frequent', random_state=42).fit(features_train, target_train)\n",
    "print('Accuracy Dummy-модели на тестовой выборке:', accuracy_score(target_test, dummy.predict(features_test)))"
   ]
  },
  {
   "cell_type": "markdown",
   "metadata": {},
   "source": [
    "Сравнив результат случайного классификатора и результат модели-леса, делаю вывод: \n",
    "Модель лес адекватна и хорошо работает."
   ]
  },
  {
   "cell_type": "markdown",
   "metadata": {},
   "source": [
    "**ОБЩИЙ ВЫВОД:**\n",
    "\n",
    "В нашем распоряжении данные о поведении клиентов, которые уже перешли на эти тарифы. Нужно построить модель для задачи классификации, которая выберет подходящий тариф. \n",
    "\n",
    "Мы выгрузили данные. Предобработка данных не понадобится.\n",
    "\n",
    "Далее разбили данные на выборки и выделили целевой признак.\n",
    "\n",
    "Разработали несколько моделей и рассчитали accuracy для каждой.\n",
    "\n",
    "     * Дерево решений - Точность лучшей модели: 0.7853810264385692\n",
    "     * Лес деревьев - Точность лучшей модели: 0.7869362363919129\n",
    "     * Логистическая регрессия - Точность логистической регрессии:0.7387247278382582\n",
    "Лучший результат показала модель случайного леса.\n",
    "\n",
    "При проверке на тестовой выборке - Точность леса: 0.7931570762052877\n",
    "\n",
    "Проверили модели на адекватность. Сравнили точность модели с простейшим алгоритмом предсказания признака с нашей. Точность простейшего классификатора оказалась значительно меньше. Следовательно модель адекватна."
   ]
  }
 ],
 "metadata": {
  "ExecuteTimeLog": [
   {
    "duration": 433,
    "start_time": "2023-07-29T15:52:59.989Z"
   },
   {
    "duration": 69,
    "start_time": "2023-07-29T15:53:44.676Z"
   },
   {
    "duration": 27,
    "start_time": "2023-07-29T15:54:50.949Z"
   },
   {
    "duration": 846,
    "start_time": "2023-07-29T16:04:40.898Z"
   },
   {
    "duration": 34,
    "start_time": "2023-07-29T16:07:21.705Z"
   },
   {
    "duration": 6,
    "start_time": "2023-07-29T16:14:52.310Z"
   },
   {
    "duration": 5,
    "start_time": "2023-07-29T16:18:06.435Z"
   },
   {
    "duration": 4,
    "start_time": "2023-07-29T16:23:51.761Z"
   },
   {
    "duration": 4,
    "start_time": "2023-07-29T16:26:16.324Z"
   },
   {
    "duration": 4,
    "start_time": "2023-07-29T16:26:21.491Z"
   },
   {
    "duration": 6,
    "start_time": "2023-07-29T16:26:59.896Z"
   },
   {
    "duration": 11,
    "start_time": "2023-07-29T16:30:18.901Z"
   },
   {
    "duration": 153,
    "start_time": "2023-07-29T16:30:36.895Z"
   },
   {
    "duration": 10,
    "start_time": "2023-07-29T16:30:49.960Z"
   },
   {
    "duration": 5,
    "start_time": "2023-07-29T16:31:00.160Z"
   },
   {
    "duration": 5,
    "start_time": "2023-07-29T16:31:35.923Z"
   },
   {
    "duration": 6,
    "start_time": "2023-07-29T16:31:38.595Z"
   },
   {
    "duration": 4,
    "start_time": "2023-07-29T16:31:40.895Z"
   },
   {
    "duration": 47,
    "start_time": "2023-07-29T18:25:14.771Z"
   },
   {
    "duration": 1302,
    "start_time": "2023-07-29T18:25:18.950Z"
   },
   {
    "duration": 161,
    "start_time": "2023-07-29T18:25:20.254Z"
   },
   {
    "duration": 11,
    "start_time": "2023-07-29T18:25:20.416Z"
   },
   {
    "duration": 13,
    "start_time": "2023-07-29T18:25:20.428Z"
   },
   {
    "duration": 7,
    "start_time": "2023-07-29T18:25:20.443Z"
   },
   {
    "duration": 7,
    "start_time": "2023-07-29T18:25:20.452Z"
   },
   {
    "duration": 59,
    "start_time": "2023-07-29T18:25:20.459Z"
   },
   {
    "duration": 3,
    "start_time": "2023-07-29T18:44:19.337Z"
   },
   {
    "duration": 44,
    "start_time": "2023-07-29T18:44:19.342Z"
   },
   {
    "duration": 9,
    "start_time": "2023-07-29T18:44:19.387Z"
   },
   {
    "duration": 11,
    "start_time": "2023-07-29T18:44:19.398Z"
   },
   {
    "duration": 7,
    "start_time": "2023-07-29T18:44:19.411Z"
   },
   {
    "duration": 5,
    "start_time": "2023-07-29T18:44:19.419Z"
   },
   {
    "duration": 69,
    "start_time": "2023-07-29T18:44:19.425Z"
   },
   {
    "duration": 3,
    "start_time": "2023-07-29T18:45:48.989Z"
   },
   {
    "duration": 11,
    "start_time": "2023-07-29T18:47:28.379Z"
   },
   {
    "duration": 15,
    "start_time": "2023-07-29T18:47:45.702Z"
   },
   {
    "duration": 4,
    "start_time": "2023-07-29T18:49:05.556Z"
   },
   {
    "duration": 8,
    "start_time": "2023-07-29T18:49:30.916Z"
   },
   {
    "duration": 4,
    "start_time": "2023-07-29T18:49:44.171Z"
   },
   {
    "duration": 3,
    "start_time": "2023-07-29T18:49:59.390Z"
   },
   {
    "duration": 3,
    "start_time": "2023-07-29T18:54:33.056Z"
   },
   {
    "duration": 92,
    "start_time": "2023-07-29T19:11:03.015Z"
   },
   {
    "duration": 5,
    "start_time": "2023-07-29T19:11:11.739Z"
   },
   {
    "duration": 5,
    "start_time": "2023-07-29T19:11:37.289Z"
   },
   {
    "duration": 10,
    "start_time": "2023-07-29T19:12:15.635Z"
   },
   {
    "duration": 10,
    "start_time": "2023-07-29T19:12:27.751Z"
   },
   {
    "duration": 1001,
    "start_time": "2023-07-30T08:11:11.474Z"
   },
   {
    "duration": 172,
    "start_time": "2023-07-30T08:11:12.477Z"
   },
   {
    "duration": 11,
    "start_time": "2023-07-30T08:11:12.651Z"
   },
   {
    "duration": 34,
    "start_time": "2023-07-30T08:11:12.663Z"
   },
   {
    "duration": 30,
    "start_time": "2023-07-30T08:11:12.699Z"
   },
   {
    "duration": 7,
    "start_time": "2023-07-30T08:11:12.730Z"
   },
   {
    "duration": 13,
    "start_time": "2023-07-30T08:11:12.739Z"
   },
   {
    "duration": 99,
    "start_time": "2023-07-30T08:11:12.754Z"
   },
   {
    "duration": 4,
    "start_time": "2023-07-30T08:15:09.262Z"
   },
   {
    "duration": 15,
    "start_time": "2023-07-30T08:16:35.161Z"
   },
   {
    "duration": 11,
    "start_time": "2023-07-30T08:16:55.589Z"
   },
   {
    "duration": 3,
    "start_time": "2023-07-30T08:17:18.184Z"
   },
   {
    "duration": 4,
    "start_time": "2023-07-30T08:17:50.369Z"
   },
   {
    "duration": 44,
    "start_time": "2023-07-30T08:23:21.282Z"
   },
   {
    "duration": 2,
    "start_time": "2023-07-30T08:23:37.817Z"
   },
   {
    "duration": 4,
    "start_time": "2023-07-30T08:27:05.910Z"
   },
   {
    "duration": 8,
    "start_time": "2023-07-30T08:29:26.315Z"
   },
   {
    "duration": 13,
    "start_time": "2023-07-30T08:29:32.017Z"
   },
   {
    "duration": 18,
    "start_time": "2023-07-30T08:33:06.123Z"
   },
   {
    "duration": 10,
    "start_time": "2023-07-30T08:33:14.565Z"
   },
   {
    "duration": 3,
    "start_time": "2023-07-30T08:38:14.381Z"
   },
   {
    "duration": 12,
    "start_time": "2023-07-30T08:48:47.399Z"
   },
   {
    "duration": 41,
    "start_time": "2023-07-30T08:49:42.772Z"
   },
   {
    "duration": 28,
    "start_time": "2023-07-30T08:49:54.523Z"
   },
   {
    "duration": 32,
    "start_time": "2023-07-30T08:50:33.160Z"
   },
   {
    "duration": 11,
    "start_time": "2023-07-30T08:53:40.210Z"
   },
   {
    "duration": 108,
    "start_time": "2023-07-30T09:00:06.483Z"
   },
   {
    "duration": 28,
    "start_time": "2023-07-30T09:03:54.226Z"
   },
   {
    "duration": 131,
    "start_time": "2023-07-30T09:04:08.503Z"
   },
   {
    "duration": 3,
    "start_time": "2023-07-30T09:04:26.982Z"
   },
   {
    "duration": 36,
    "start_time": "2023-07-30T09:04:26.986Z"
   },
   {
    "duration": 10,
    "start_time": "2023-07-30T09:04:27.023Z"
   },
   {
    "duration": 16,
    "start_time": "2023-07-30T09:04:27.034Z"
   },
   {
    "duration": 6,
    "start_time": "2023-07-30T09:04:27.052Z"
   },
   {
    "duration": 5,
    "start_time": "2023-07-30T09:04:27.059Z"
   },
   {
    "duration": 20,
    "start_time": "2023-07-30T09:04:27.065Z"
   },
   {
    "duration": 5,
    "start_time": "2023-07-30T09:04:27.086Z"
   },
   {
    "duration": 35,
    "start_time": "2023-07-30T09:04:27.092Z"
   },
   {
    "duration": 132,
    "start_time": "2023-07-30T09:04:27.129Z"
   },
   {
    "duration": 129,
    "start_time": "2023-07-30T09:05:10.282Z"
   },
   {
    "duration": 2,
    "start_time": "2023-07-30T10:24:04.910Z"
   },
   {
    "duration": 45,
    "start_time": "2023-07-30T10:24:04.914Z"
   },
   {
    "duration": 10,
    "start_time": "2023-07-30T10:24:04.960Z"
   },
   {
    "duration": 23,
    "start_time": "2023-07-30T10:24:04.971Z"
   },
   {
    "duration": 30,
    "start_time": "2023-07-30T10:24:04.997Z"
   },
   {
    "duration": 15,
    "start_time": "2023-07-30T10:24:05.028Z"
   },
   {
    "duration": 18,
    "start_time": "2023-07-30T10:24:05.045Z"
   },
   {
    "duration": 20,
    "start_time": "2023-07-30T10:24:05.064Z"
   },
   {
    "duration": 58,
    "start_time": "2023-07-30T10:24:05.086Z"
   },
   {
    "duration": 153,
    "start_time": "2023-07-30T10:24:05.146Z"
   },
   {
    "duration": 9,
    "start_time": "2023-07-30T10:26:35.151Z"
   },
   {
    "duration": 3,
    "start_time": "2023-07-30T10:27:03.752Z"
   },
   {
    "duration": 18,
    "start_time": "2023-07-30T10:31:58.980Z"
   },
   {
    "duration": 3,
    "start_time": "2023-07-30T10:33:40.803Z"
   },
   {
    "duration": 40,
    "start_time": "2023-07-30T10:33:40.808Z"
   },
   {
    "duration": 10,
    "start_time": "2023-07-30T10:33:40.849Z"
   },
   {
    "duration": 9,
    "start_time": "2023-07-30T10:33:40.860Z"
   },
   {
    "duration": 5,
    "start_time": "2023-07-30T10:33:40.872Z"
   },
   {
    "duration": 14,
    "start_time": "2023-07-30T10:33:40.878Z"
   },
   {
    "duration": 14,
    "start_time": "2023-07-30T10:33:40.894Z"
   },
   {
    "duration": 9,
    "start_time": "2023-07-30T10:33:40.909Z"
   },
   {
    "duration": 40,
    "start_time": "2023-07-30T10:33:40.920Z"
   },
   {
    "duration": 258,
    "start_time": "2023-07-30T10:33:40.962Z"
   },
   {
    "duration": 18,
    "start_time": "2023-07-30T10:33:41.222Z"
   },
   {
    "duration": 28,
    "start_time": "2023-07-30T10:34:39.819Z"
   },
   {
    "duration": 46,
    "start_time": "2023-07-30T10:44:52.655Z"
   },
   {
    "duration": 28,
    "start_time": "2023-07-30T10:45:43.084Z"
   },
   {
    "duration": 3,
    "start_time": "2023-07-30T10:46:02.183Z"
   },
   {
    "duration": 75,
    "start_time": "2023-07-30T10:46:02.188Z"
   },
   {
    "duration": 12,
    "start_time": "2023-07-30T10:46:02.265Z"
   },
   {
    "duration": 36,
    "start_time": "2023-07-30T10:46:02.280Z"
   },
   {
    "duration": 38,
    "start_time": "2023-07-30T10:46:02.318Z"
   },
   {
    "duration": 34,
    "start_time": "2023-07-30T10:46:02.358Z"
   },
   {
    "duration": 25,
    "start_time": "2023-07-30T10:46:02.393Z"
   },
   {
    "duration": 36,
    "start_time": "2023-07-30T10:46:02.420Z"
   },
   {
    "duration": 61,
    "start_time": "2023-07-30T10:46:02.458Z"
   },
   {
    "duration": 248,
    "start_time": "2023-07-30T10:46:02.522Z"
   },
   {
    "duration": 18,
    "start_time": "2023-07-30T10:46:02.771Z"
   },
   {
    "duration": 28,
    "start_time": "2023-07-30T10:47:23.594Z"
   },
   {
    "duration": 3,
    "start_time": "2023-07-30T10:47:46.754Z"
   },
   {
    "duration": 40,
    "start_time": "2023-07-30T10:47:46.759Z"
   },
   {
    "duration": 9,
    "start_time": "2023-07-30T10:47:46.801Z"
   },
   {
    "duration": 10,
    "start_time": "2023-07-30T10:47:46.811Z"
   },
   {
    "duration": 5,
    "start_time": "2023-07-30T10:47:46.823Z"
   },
   {
    "duration": 6,
    "start_time": "2023-07-30T10:47:46.829Z"
   },
   {
    "duration": 15,
    "start_time": "2023-07-30T10:47:46.836Z"
   },
   {
    "duration": 5,
    "start_time": "2023-07-30T10:47:46.853Z"
   },
   {
    "duration": 42,
    "start_time": "2023-07-30T10:47:46.859Z"
   },
   {
    "duration": 249,
    "start_time": "2023-07-30T10:47:46.902Z"
   },
   {
    "duration": 16,
    "start_time": "2023-07-30T10:47:47.152Z"
   },
   {
    "duration": 29,
    "start_time": "2023-07-30T10:48:36.453Z"
   },
   {
    "duration": 3,
    "start_time": "2023-07-30T10:48:44.259Z"
   },
   {
    "duration": 42,
    "start_time": "2023-07-30T10:48:44.264Z"
   },
   {
    "duration": 10,
    "start_time": "2023-07-30T10:48:44.307Z"
   },
   {
    "duration": 9,
    "start_time": "2023-07-30T10:48:44.319Z"
   },
   {
    "duration": 9,
    "start_time": "2023-07-30T10:48:44.330Z"
   },
   {
    "duration": 6,
    "start_time": "2023-07-30T10:48:44.341Z"
   },
   {
    "duration": 14,
    "start_time": "2023-07-30T10:48:44.348Z"
   },
   {
    "duration": 6,
    "start_time": "2023-07-30T10:48:44.363Z"
   },
   {
    "duration": 40,
    "start_time": "2023-07-30T10:48:44.370Z"
   },
   {
    "duration": 268,
    "start_time": "2023-07-30T10:48:44.412Z"
   },
   {
    "duration": 30,
    "start_time": "2023-07-30T10:48:44.682Z"
   },
   {
    "duration": 3,
    "start_time": "2023-07-30T10:49:52.442Z"
   },
   {
    "duration": 50,
    "start_time": "2023-07-30T10:49:52.446Z"
   },
   {
    "duration": 9,
    "start_time": "2023-07-30T10:49:52.498Z"
   },
   {
    "duration": 31,
    "start_time": "2023-07-30T10:49:52.508Z"
   },
   {
    "duration": 35,
    "start_time": "2023-07-30T10:49:52.541Z"
   },
   {
    "duration": 30,
    "start_time": "2023-07-30T10:49:52.577Z"
   },
   {
    "duration": 26,
    "start_time": "2023-07-30T10:49:52.609Z"
   },
   {
    "duration": 22,
    "start_time": "2023-07-30T10:49:52.637Z"
   },
   {
    "duration": 53,
    "start_time": "2023-07-30T10:49:52.660Z"
   },
   {
    "duration": 245,
    "start_time": "2023-07-30T10:49:52.714Z"
   },
   {
    "duration": 21,
    "start_time": "2023-07-30T10:49:52.961Z"
   },
   {
    "duration": 29,
    "start_time": "2023-07-30T10:54:35.896Z"
   },
   {
    "duration": 28,
    "start_time": "2023-07-30T10:55:08.891Z"
   },
   {
    "duration": 238,
    "start_time": "2023-07-30T10:55:48.480Z"
   },
   {
    "duration": 3,
    "start_time": "2023-07-30T10:55:58.207Z"
   },
   {
    "duration": 35,
    "start_time": "2023-07-30T10:55:58.211Z"
   },
   {
    "duration": 8,
    "start_time": "2023-07-30T10:55:58.248Z"
   },
   {
    "duration": 7,
    "start_time": "2023-07-30T10:55:58.257Z"
   },
   {
    "duration": 8,
    "start_time": "2023-07-30T10:55:58.265Z"
   },
   {
    "duration": 9,
    "start_time": "2023-07-30T10:55:58.275Z"
   },
   {
    "duration": 5,
    "start_time": "2023-07-30T10:55:58.285Z"
   },
   {
    "duration": 6,
    "start_time": "2023-07-30T10:55:58.291Z"
   },
   {
    "duration": 27,
    "start_time": "2023-07-30T10:55:58.298Z"
   },
   {
    "duration": 243,
    "start_time": "2023-07-30T10:55:58.327Z"
   },
   {
    "duration": 17,
    "start_time": "2023-07-30T10:55:58.572Z"
   },
   {
    "duration": 19,
    "start_time": "2023-07-30T10:56:16.641Z"
   },
   {
    "duration": 3,
    "start_time": "2023-07-30T10:56:27.359Z"
   },
   {
    "duration": 69,
    "start_time": "2023-07-30T10:56:27.363Z"
   },
   {
    "duration": 9,
    "start_time": "2023-07-30T10:56:27.433Z"
   },
   {
    "duration": 11,
    "start_time": "2023-07-30T10:56:27.443Z"
   },
   {
    "duration": 6,
    "start_time": "2023-07-30T10:56:27.456Z"
   },
   {
    "duration": 4,
    "start_time": "2023-07-30T10:56:27.464Z"
   },
   {
    "duration": 7,
    "start_time": "2023-07-30T10:56:27.469Z"
   },
   {
    "duration": 15,
    "start_time": "2023-07-30T10:56:27.477Z"
   },
   {
    "duration": 34,
    "start_time": "2023-07-30T10:56:27.493Z"
   },
   {
    "duration": 247,
    "start_time": "2023-07-30T10:56:27.529Z"
   },
   {
    "duration": 23,
    "start_time": "2023-07-30T10:56:27.777Z"
   },
   {
    "duration": 3,
    "start_time": "2023-07-30T10:56:38.007Z"
   },
   {
    "duration": 31,
    "start_time": "2023-07-30T10:56:38.011Z"
   },
   {
    "duration": 9,
    "start_time": "2023-07-30T10:56:38.043Z"
   },
   {
    "duration": 4,
    "start_time": "2023-07-30T10:56:38.053Z"
   },
   {
    "duration": 6,
    "start_time": "2023-07-30T10:56:38.059Z"
   },
   {
    "duration": 11,
    "start_time": "2023-07-30T10:56:38.066Z"
   },
   {
    "duration": 6,
    "start_time": "2023-07-30T10:56:38.078Z"
   },
   {
    "duration": 80,
    "start_time": "2023-07-30T10:56:38.086Z"
   },
   {
    "duration": 44,
    "start_time": "2023-07-30T10:56:38.168Z"
   },
   {
    "duration": 254,
    "start_time": "2023-07-30T10:56:38.214Z"
   },
   {
    "duration": 18,
    "start_time": "2023-07-30T10:56:38.469Z"
   },
   {
    "duration": 2,
    "start_time": "2023-07-30T10:58:28.961Z"
   },
   {
    "duration": 33,
    "start_time": "2023-07-30T10:58:28.966Z"
   },
   {
    "duration": 9,
    "start_time": "2023-07-30T10:58:29.000Z"
   },
   {
    "duration": 18,
    "start_time": "2023-07-30T10:58:29.010Z"
   },
   {
    "duration": 14,
    "start_time": "2023-07-30T10:58:29.030Z"
   },
   {
    "duration": 21,
    "start_time": "2023-07-30T10:58:29.046Z"
   },
   {
    "duration": 11,
    "start_time": "2023-07-30T10:58:29.068Z"
   },
   {
    "duration": 10,
    "start_time": "2023-07-30T10:58:29.080Z"
   },
   {
    "duration": 37,
    "start_time": "2023-07-30T10:58:29.091Z"
   },
   {
    "duration": 239,
    "start_time": "2023-07-30T10:58:29.129Z"
   },
   {
    "duration": 17,
    "start_time": "2023-07-30T10:58:29.369Z"
   },
   {
    "duration": 1180,
    "start_time": "2023-07-30T13:24:05.296Z"
   },
   {
    "duration": 116,
    "start_time": "2023-07-30T13:24:06.478Z"
   },
   {
    "duration": 13,
    "start_time": "2023-07-30T13:24:06.595Z"
   },
   {
    "duration": 21,
    "start_time": "2023-07-30T13:24:06.610Z"
   },
   {
    "duration": 22,
    "start_time": "2023-07-30T13:24:06.634Z"
   },
   {
    "duration": 15,
    "start_time": "2023-07-30T13:24:06.658Z"
   },
   {
    "duration": 18,
    "start_time": "2023-07-30T13:24:06.675Z"
   },
   {
    "duration": 14,
    "start_time": "2023-07-30T13:24:06.695Z"
   },
   {
    "duration": 54,
    "start_time": "2023-07-30T13:24:06.711Z"
   },
   {
    "duration": 289,
    "start_time": "2023-07-30T13:24:06.767Z"
   },
   {
    "duration": 34,
    "start_time": "2023-07-30T13:24:07.057Z"
   },
   {
    "duration": 3,
    "start_time": "2023-07-30T13:24:57.212Z"
   },
   {
    "duration": 45,
    "start_time": "2023-07-30T13:24:57.218Z"
   },
   {
    "duration": 12,
    "start_time": "2023-07-30T13:24:57.265Z"
   },
   {
    "duration": 29,
    "start_time": "2023-07-30T13:24:57.279Z"
   },
   {
    "duration": 35,
    "start_time": "2023-07-30T13:24:57.311Z"
   },
   {
    "duration": 39,
    "start_time": "2023-07-30T13:24:57.349Z"
   },
   {
    "duration": 33,
    "start_time": "2023-07-30T13:24:57.391Z"
   },
   {
    "duration": 33,
    "start_time": "2023-07-30T13:24:57.426Z"
   },
   {
    "duration": 70,
    "start_time": "2023-07-30T13:24:57.461Z"
   },
   {
    "duration": 272,
    "start_time": "2023-07-30T13:24:57.532Z"
   },
   {
    "duration": 26,
    "start_time": "2023-07-30T13:24:57.806Z"
   },
   {
    "duration": 3,
    "start_time": "2023-07-30T13:29:26.618Z"
   },
   {
    "duration": 74,
    "start_time": "2023-07-30T13:29:26.624Z"
   },
   {
    "duration": 12,
    "start_time": "2023-07-30T13:29:26.700Z"
   },
   {
    "duration": 88,
    "start_time": "2023-07-30T13:29:26.714Z"
   },
   {
    "duration": 51,
    "start_time": "2023-07-30T13:29:26.804Z"
   },
   {
    "duration": 17,
    "start_time": "2023-07-30T13:29:26.858Z"
   },
   {
    "duration": 38,
    "start_time": "2023-07-30T13:29:26.877Z"
   },
   {
    "duration": 16,
    "start_time": "2023-07-30T13:29:26.917Z"
   },
   {
    "duration": 59,
    "start_time": "2023-07-30T13:29:26.935Z"
   },
   {
    "duration": 300,
    "start_time": "2023-07-30T13:29:26.996Z"
   },
   {
    "duration": 25,
    "start_time": "2023-07-30T13:29:27.298Z"
   },
   {
    "duration": 25,
    "start_time": "2023-07-30T13:31:29.198Z"
   },
   {
    "duration": 31,
    "start_time": "2023-07-30T13:33:12.179Z"
   },
   {
    "duration": 283,
    "start_time": "2023-07-30T13:40:17.513Z"
   },
   {
    "duration": 31,
    "start_time": "2023-07-30T13:43:30.051Z"
   },
   {
    "duration": 31,
    "start_time": "2023-07-30T13:43:43.093Z"
   },
   {
    "duration": 273,
    "start_time": "2023-07-30T13:45:18.781Z"
   },
   {
    "duration": 26,
    "start_time": "2023-07-30T13:55:03.055Z"
   },
   {
    "duration": 80,
    "start_time": "2023-07-30T13:58:37.937Z"
   },
   {
    "duration": 99,
    "start_time": "2023-07-30T13:59:34.744Z"
   },
   {
    "duration": 112,
    "start_time": "2023-07-30T13:59:46.288Z"
   },
   {
    "duration": 241,
    "start_time": "2023-07-30T14:00:30.579Z"
   },
   {
    "duration": 4,
    "start_time": "2023-07-30T14:09:05.283Z"
   },
   {
    "duration": 110,
    "start_time": "2023-07-30T14:11:36.847Z"
   },
   {
    "duration": 4,
    "start_time": "2023-07-30T14:12:31.472Z"
   },
   {
    "duration": 51,
    "start_time": "2023-07-30T14:12:31.479Z"
   },
   {
    "duration": 20,
    "start_time": "2023-07-30T14:12:31.532Z"
   },
   {
    "duration": 29,
    "start_time": "2023-07-30T14:12:31.554Z"
   },
   {
    "duration": 28,
    "start_time": "2023-07-30T14:12:31.586Z"
   },
   {
    "duration": 27,
    "start_time": "2023-07-30T14:12:31.616Z"
   },
   {
    "duration": 50,
    "start_time": "2023-07-30T14:12:31.645Z"
   },
   {
    "duration": 37,
    "start_time": "2023-07-30T14:12:31.697Z"
   },
   {
    "duration": 47,
    "start_time": "2023-07-30T14:12:31.736Z"
   },
   {
    "duration": 312,
    "start_time": "2023-07-30T14:12:31.786Z"
   },
   {
    "duration": 27,
    "start_time": "2023-07-30T14:12:32.099Z"
   },
   {
    "duration": 6,
    "start_time": "2023-07-30T14:20:36.484Z"
   },
   {
    "duration": 12,
    "start_time": "2023-07-30T14:21:15.306Z"
   },
   {
    "duration": 3,
    "start_time": "2023-07-30T14:22:10.899Z"
   },
   {
    "duration": 17,
    "start_time": "2023-07-30T14:29:16.093Z"
   },
   {
    "duration": 9,
    "start_time": "2023-07-30T14:29:21.459Z"
   },
   {
    "duration": 279,
    "start_time": "2023-07-30T14:38:31.082Z"
   },
   {
    "duration": 12,
    "start_time": "2023-07-30T14:42:39.920Z"
   },
   {
    "duration": 11,
    "start_time": "2023-07-30T14:44:32.892Z"
   },
   {
    "duration": 16,
    "start_time": "2023-07-30T14:47:23.951Z"
   },
   {
    "duration": 16,
    "start_time": "2023-07-30T14:51:02.347Z"
   },
   {
    "duration": 4,
    "start_time": "2023-07-30T15:17:43.578Z"
   },
   {
    "duration": 61,
    "start_time": "2023-07-30T15:17:43.585Z"
   },
   {
    "duration": 13,
    "start_time": "2023-07-30T15:17:43.647Z"
   },
   {
    "duration": 28,
    "start_time": "2023-07-30T15:17:43.662Z"
   },
   {
    "duration": 39,
    "start_time": "2023-07-30T15:17:43.693Z"
   },
   {
    "duration": 61,
    "start_time": "2023-07-30T15:17:43.734Z"
   },
   {
    "duration": 19,
    "start_time": "2023-07-30T15:17:43.797Z"
   },
   {
    "duration": 34,
    "start_time": "2023-07-30T15:17:43.818Z"
   },
   {
    "duration": 58,
    "start_time": "2023-07-30T15:17:43.854Z"
   },
   {
    "duration": 312,
    "start_time": "2023-07-30T15:17:43.914Z"
   },
   {
    "duration": 25,
    "start_time": "2023-07-30T15:17:44.228Z"
   },
   {
    "duration": 34,
    "start_time": "2023-07-30T15:17:44.255Z"
   },
   {
    "duration": 16,
    "start_time": "2023-07-30T15:18:08.077Z"
   },
   {
    "duration": 11,
    "start_time": "2023-07-30T15:20:28.448Z"
   },
   {
    "duration": 4,
    "start_time": "2023-07-30T15:21:03.191Z"
   },
   {
    "duration": 12,
    "start_time": "2023-07-30T15:21:09.820Z"
   },
   {
    "duration": 3,
    "start_time": "2023-07-30T15:27:06.672Z"
   },
   {
    "duration": 3,
    "start_time": "2023-07-30T15:27:15.653Z"
   },
   {
    "duration": 9,
    "start_time": "2023-07-30T15:27:25.122Z"
   },
   {
    "duration": 6,
    "start_time": "2023-07-30T15:27:53.687Z"
   },
   {
    "duration": 51,
    "start_time": "2023-07-31T12:53:26.022Z"
   },
   {
    "duration": 6,
    "start_time": "2023-07-31T12:53:28.018Z"
   },
   {
    "duration": 1162,
    "start_time": "2023-07-31T12:53:32.263Z"
   },
   {
    "duration": 114,
    "start_time": "2023-07-31T12:53:33.427Z"
   },
   {
    "duration": 13,
    "start_time": "2023-07-31T12:53:33.543Z"
   },
   {
    "duration": 18,
    "start_time": "2023-07-31T12:53:33.568Z"
   },
   {
    "duration": 80,
    "start_time": "2023-07-31T12:53:33.588Z"
   },
   {
    "duration": 0,
    "start_time": "2023-07-31T12:53:33.670Z"
   },
   {
    "duration": 0,
    "start_time": "2023-07-31T12:53:33.672Z"
   },
   {
    "duration": 0,
    "start_time": "2023-07-31T12:53:33.673Z"
   },
   {
    "duration": 0,
    "start_time": "2023-07-31T12:53:33.674Z"
   },
   {
    "duration": 0,
    "start_time": "2023-07-31T12:53:33.675Z"
   },
   {
    "duration": 0,
    "start_time": "2023-07-31T12:53:33.676Z"
   },
   {
    "duration": 0,
    "start_time": "2023-07-31T12:53:33.677Z"
   },
   {
    "duration": 0,
    "start_time": "2023-07-31T12:53:33.678Z"
   },
   {
    "duration": 0,
    "start_time": "2023-07-31T12:53:33.679Z"
   },
   {
    "duration": 0,
    "start_time": "2023-07-31T12:53:33.680Z"
   },
   {
    "duration": 16,
    "start_time": "2023-07-31T12:53:46.101Z"
   },
   {
    "duration": 16,
    "start_time": "2023-07-31T12:54:08.348Z"
   },
   {
    "duration": 7,
    "start_time": "2023-07-31T12:54:39.000Z"
   },
   {
    "duration": 4,
    "start_time": "2023-07-31T12:55:45.486Z"
   },
   {
    "duration": 36,
    "start_time": "2023-07-31T12:55:45.492Z"
   },
   {
    "duration": 12,
    "start_time": "2023-07-31T12:55:45.530Z"
   },
   {
    "duration": 6,
    "start_time": "2023-07-31T12:55:45.544Z"
   },
   {
    "duration": 7,
    "start_time": "2023-07-31T12:55:45.553Z"
   },
   {
    "duration": 8,
    "start_time": "2023-07-31T12:55:45.561Z"
   },
   {
    "duration": 11,
    "start_time": "2023-07-31T12:55:45.570Z"
   },
   {
    "duration": 5,
    "start_time": "2023-07-31T12:55:46.161Z"
   },
   {
    "duration": 43,
    "start_time": "2023-07-31T12:55:46.169Z"
   },
   {
    "duration": 301,
    "start_time": "2023-07-31T12:55:46.213Z"
   },
   {
    "duration": 55,
    "start_time": "2023-07-31T12:55:46.516Z"
   },
   {
    "duration": 14,
    "start_time": "2023-07-31T12:55:46.573Z"
   },
   {
    "duration": 19,
    "start_time": "2023-07-31T12:55:46.588Z"
   },
   {
    "duration": 26,
    "start_time": "2023-07-31T12:55:46.609Z"
   },
   {
    "duration": 31,
    "start_time": "2023-07-31T12:55:46.637Z"
   },
   {
    "duration": 13,
    "start_time": "2023-07-31T13:05:05.473Z"
   },
   {
    "duration": 14,
    "start_time": "2023-07-31T13:05:34.344Z"
   },
   {
    "duration": 1256,
    "start_time": "2023-08-02T18:23:36.065Z"
   },
   {
    "duration": 69,
    "start_time": "2023-08-02T18:23:37.324Z"
   },
   {
    "duration": 13,
    "start_time": "2023-08-02T18:23:37.394Z"
   },
   {
    "duration": 14,
    "start_time": "2023-08-02T18:23:37.408Z"
   },
   {
    "duration": 5,
    "start_time": "2023-08-02T18:23:37.424Z"
   },
   {
    "duration": 9,
    "start_time": "2023-08-02T18:23:37.430Z"
   },
   {
    "duration": 10,
    "start_time": "2023-08-02T18:23:37.440Z"
   },
   {
    "duration": 10,
    "start_time": "2023-08-02T18:23:37.452Z"
   },
   {
    "duration": 39,
    "start_time": "2023-08-02T18:23:37.464Z"
   },
   {
    "duration": 273,
    "start_time": "2023-08-02T18:23:37.504Z"
   },
   {
    "duration": 36,
    "start_time": "2023-08-02T18:23:37.779Z"
   },
   {
    "duration": 10,
    "start_time": "2023-08-02T18:23:37.817Z"
   },
   {
    "duration": 129,
    "start_time": "2023-08-02T18:23:37.829Z"
   },
   {
    "duration": 0,
    "start_time": "2023-08-02T18:23:37.960Z"
   },
   {
    "duration": 0,
    "start_time": "2023-08-02T18:23:37.961Z"
   },
   {
    "duration": 6,
    "start_time": "2023-08-02T18:27:53.324Z"
   },
   {
    "duration": 150,
    "start_time": "2023-08-02T18:39:03.497Z"
   },
   {
    "duration": 62,
    "start_time": "2023-08-03T13:52:33.489Z"
   },
   {
    "duration": 1215,
    "start_time": "2023-08-03T13:52:41.819Z"
   },
   {
    "duration": 208,
    "start_time": "2023-08-03T13:52:43.036Z"
   },
   {
    "duration": 14,
    "start_time": "2023-08-03T13:52:43.246Z"
   },
   {
    "duration": 18,
    "start_time": "2023-08-03T13:52:43.262Z"
   },
   {
    "duration": 41,
    "start_time": "2023-08-03T13:52:43.282Z"
   },
   {
    "duration": 17,
    "start_time": "2023-08-03T13:52:43.325Z"
   },
   {
    "duration": 14,
    "start_time": "2023-08-03T13:52:43.344Z"
   },
   {
    "duration": 37,
    "start_time": "2023-08-03T13:52:43.360Z"
   },
   {
    "duration": 88,
    "start_time": "2023-08-03T13:52:43.399Z"
   },
   {
    "duration": 335,
    "start_time": "2023-08-03T13:52:43.489Z"
   },
   {
    "duration": 85,
    "start_time": "2023-08-03T13:52:43.827Z"
   },
   {
    "duration": 0,
    "start_time": "2023-08-03T13:52:43.926Z"
   },
   {
    "duration": 0,
    "start_time": "2023-08-03T13:52:43.927Z"
   },
   {
    "duration": 90,
    "start_time": "2023-08-03T13:54:00.941Z"
   },
   {
    "duration": 113,
    "start_time": "2023-08-03T13:54:34.249Z"
   },
   {
    "duration": 5,
    "start_time": "2023-08-03T13:54:43.283Z"
   },
   {
    "duration": 76,
    "start_time": "2023-08-03T13:54:43.290Z"
   },
   {
    "duration": 14,
    "start_time": "2023-08-03T13:54:43.368Z"
   },
   {
    "duration": 14,
    "start_time": "2023-08-03T13:54:43.384Z"
   },
   {
    "duration": 41,
    "start_time": "2023-08-03T13:54:43.405Z"
   },
   {
    "duration": 19,
    "start_time": "2023-08-03T13:54:43.449Z"
   },
   {
    "duration": 16,
    "start_time": "2023-08-03T13:54:43.470Z"
   },
   {
    "duration": 41,
    "start_time": "2023-08-03T13:54:43.488Z"
   },
   {
    "duration": 53,
    "start_time": "2023-08-03T13:54:43.534Z"
   },
   {
    "duration": 331,
    "start_time": "2023-08-03T13:54:43.589Z"
   },
   {
    "duration": 118,
    "start_time": "2023-08-03T13:54:43.922Z"
   },
   {
    "duration": 10,
    "start_time": "2023-08-03T13:54:44.042Z"
   },
   {
    "duration": 33,
    "start_time": "2023-08-03T13:54:44.054Z"
   },
   {
    "duration": 143,
    "start_time": "2023-08-03T13:55:13.393Z"
   },
   {
    "duration": 54,
    "start_time": "2023-08-03T13:57:06.079Z"
   },
   {
    "duration": 104,
    "start_time": "2023-08-03T13:57:40.765Z"
   },
   {
    "duration": 160,
    "start_time": "2023-08-03T13:58:38.086Z"
   },
   {
    "duration": 34,
    "start_time": "2023-08-03T13:58:49.347Z"
   },
   {
    "duration": 39,
    "start_time": "2023-08-03T13:58:58.295Z"
   },
   {
    "duration": 38,
    "start_time": "2023-08-03T13:59:07.726Z"
   },
   {
    "duration": 28,
    "start_time": "2023-08-03T13:59:12.262Z"
   },
   {
    "duration": 47,
    "start_time": "2023-08-03T16:27:20.605Z"
   },
   {
    "duration": 1138,
    "start_time": "2023-08-03T16:27:24.526Z"
   },
   {
    "duration": 104,
    "start_time": "2023-08-03T16:27:25.667Z"
   },
   {
    "duration": 16,
    "start_time": "2023-08-03T16:27:25.772Z"
   },
   {
    "duration": 21,
    "start_time": "2023-08-03T16:27:25.790Z"
   },
   {
    "duration": 6,
    "start_time": "2023-08-03T16:27:25.813Z"
   },
   {
    "duration": 11,
    "start_time": "2023-08-03T16:27:25.820Z"
   },
   {
    "duration": 7,
    "start_time": "2023-08-03T16:27:25.832Z"
   },
   {
    "duration": 15,
    "start_time": "2023-08-03T16:27:25.840Z"
   },
   {
    "duration": 41,
    "start_time": "2023-08-03T16:27:25.856Z"
   },
   {
    "duration": 286,
    "start_time": "2023-08-03T16:27:25.899Z"
   },
   {
    "duration": 147,
    "start_time": "2023-08-03T16:27:26.187Z"
   },
   {
    "duration": 7,
    "start_time": "2023-08-03T16:27:26.336Z"
   },
   {
    "duration": 20,
    "start_time": "2023-08-03T16:27:26.345Z"
   },
   {
    "duration": 122,
    "start_time": "2023-08-03T16:27:45.433Z"
   },
   {
    "duration": 36,
    "start_time": "2023-08-03T16:28:30.034Z"
   },
   {
    "duration": 37,
    "start_time": "2023-08-03T16:28:40.101Z"
   },
   {
    "duration": 151,
    "start_time": "2023-08-03T16:30:58.822Z"
   },
   {
    "duration": 78,
    "start_time": "2023-08-03T16:33:03.800Z"
   },
   {
    "duration": 21,
    "start_time": "2023-08-03T16:33:15.855Z"
   },
   {
    "duration": 1260,
    "start_time": "2023-08-07T15:22:01.402Z"
   },
   {
    "duration": 122,
    "start_time": "2023-08-07T15:22:02.664Z"
   },
   {
    "duration": 11,
    "start_time": "2023-08-07T15:22:02.788Z"
   },
   {
    "duration": 22,
    "start_time": "2023-08-07T15:22:02.800Z"
   },
   {
    "duration": 8,
    "start_time": "2023-08-07T15:22:02.824Z"
   },
   {
    "duration": 6,
    "start_time": "2023-08-07T15:22:02.833Z"
   },
   {
    "duration": 18,
    "start_time": "2023-08-07T15:22:02.840Z"
   },
   {
    "duration": 10,
    "start_time": "2023-08-07T15:22:02.860Z"
   },
   {
    "duration": 53,
    "start_time": "2023-08-07T15:22:02.872Z"
   },
   {
    "duration": 286,
    "start_time": "2023-08-07T15:22:02.927Z"
   },
   {
    "duration": 213,
    "start_time": "2023-08-07T15:22:03.215Z"
   },
   {
    "duration": 24,
    "start_time": "2023-08-07T15:22:03.430Z"
   },
   {
    "duration": 9,
    "start_time": "2023-08-07T15:22:03.456Z"
   },
   {
    "duration": 9,
    "start_time": "2023-08-07T15:22:03.467Z"
   },
   {
    "duration": 24,
    "start_time": "2023-08-07T15:23:01.076Z"
   },
   {
    "duration": 25,
    "start_time": "2023-08-07T15:23:22.673Z"
   }
  ],
  "kernelspec": {
   "display_name": "Python 3 (ipykernel)",
   "language": "python",
   "name": "python3"
  },
  "language_info": {
   "codemirror_mode": {
    "name": "ipython",
    "version": 3
   },
   "file_extension": ".py",
   "mimetype": "text/x-python",
   "name": "python",
   "nbconvert_exporter": "python",
   "pygments_lexer": "ipython3",
   "version": "3.9.18"
  },
  "toc": {
   "base_numbering": 1,
   "nav_menu": {},
   "number_sections": true,
   "sideBar": true,
   "skip_h1_title": true,
   "title_cell": "Table of Contents",
   "title_sidebar": "Contents",
   "toc_cell": false,
   "toc_position": {},
   "toc_section_display": true,
   "toc_window_display": false
  }
 },
 "nbformat": 4,
 "nbformat_minor": 4
}
